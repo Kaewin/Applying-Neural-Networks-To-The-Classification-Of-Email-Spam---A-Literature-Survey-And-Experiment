{
 "cells": [
  {
   "attachments": {},
   "cell_type": "markdown",
   "metadata": {},
   "source": [
    "# Run 1: Preprocessed Data\n",
    "\n",
    "The following data being used here the preprocessed data from the enron email dataset. Specifically here, it is the data used by the following paper.\n",
    "\n",
    "[Paper](https://www2.aueb.gr/users/ion/docs/ceas2006_paper.pdf)\n",
    "\n",
    "[Data](https://www2.aueb.gr/users/ion/data/enron-spam/)"
   ]
  },
  {
   "cell_type": "code",
   "execution_count": 1,
   "metadata": {},
   "outputs": [],
   "source": [
    "import pandas as pd\n",
    "from sklearn.model_selection import train_test_split\n",
    "from sklearn.naive_bayes import GaussianNB\n",
    "from sklearn.metrics import accuracy_score"
   ]
  },
  {
   "cell_type": "code",
   "execution_count": 2,
   "metadata": {},
   "outputs": [],
   "source": [
    "# import data\n",
    "data = pd.read_csv('data/data_cleaned.csv')"
   ]
  },
  {
   "cell_type": "code",
   "execution_count": 3,
   "metadata": {},
   "outputs": [],
   "source": [
    "# Splitting the data into features and target variable\n",
    "X = data.drop('spam', axis=1)  # Replace 'target_variable_name' with the actual name of your target variable\n",
    "y = data['spam']\n",
    "\n",
    "# Splitting the data into training and testing sets\n",
    "X_train, X_test, y_train, y_test = train_test_split(X, y, test_size=0.2, random_state=42)  # Adjust the test_size and random_state as desired"
   ]
  },
  {
   "cell_type": "code",
   "execution_count": 4,
   "metadata": {},
   "outputs": [
    {
     "name": "stdout",
     "output_type": "stream",
     "text": [
      "Accuracy: 0.8208469055374593\n"
     ]
    }
   ],
   "source": [
    "# Training the Naive Bayes model\n",
    "model = GaussianNB()\n",
    "model.fit(X_train, y_train)\n",
    "\n",
    "# Making predictions on the testing set\n",
    "y_pred = model.predict(X_test)\n",
    "\n",
    "# Evaluating the model performance\n",
    "accuracy = accuracy_score(y_test, y_pred)\n",
    "print(\"Accuracy:\", accuracy)"
   ]
  },
  {
   "attachments": {},
   "cell_type": "markdown",
   "metadata": {},
   "source": [
    "# Run 2: Data Processed By Me"
   ]
  },
  {
   "cell_type": "code",
   "execution_count": 5,
   "metadata": {},
   "outputs": [],
   "source": [
    "# import data\n",
    "d1 = pd.read_csv('data/enron_proccessed.csv')\n",
    "d2 = pd.read_csv('data/enron_proccessed_spam.csv')"
   ]
  },
  {
   "cell_type": "code",
   "execution_count": 6,
   "metadata": {},
   "outputs": [],
   "source": [
    "# combine d1 and d2, update the index\n",
    "data = pd.concat([d1, d2], ignore_index=True)"
   ]
  },
  {
   "cell_type": "code",
   "execution_count": 7,
   "metadata": {},
   "outputs": [
    {
     "data": {
      "text/html": [
       "<div>\n",
       "<style scoped>\n",
       "    .dataframe tbody tr th:only-of-type {\n",
       "        vertical-align: middle;\n",
       "    }\n",
       "\n",
       "    .dataframe tbody tr th {\n",
       "        vertical-align: top;\n",
       "    }\n",
       "\n",
       "    .dataframe thead th {\n",
       "        text-align: right;\n",
       "    }\n",
       "</style>\n",
       "<table border=\"1\" class=\"dataframe\">\n",
       "  <thead>\n",
       "    <tr style=\"text-align: right;\">\n",
       "      <th></th>\n",
       "      <th>0</th>\n",
       "      <th>1</th>\n",
       "      <th>2</th>\n",
       "      <th>3</th>\n",
       "      <th>4</th>\n",
       "    </tr>\n",
       "  </thead>\n",
       "  <tbody>\n",
       "    <tr>\n",
       "      <th>Index</th>\n",
       "      <td>1</td>\n",
       "      <td>2</td>\n",
       "      <td>3</td>\n",
       "      <td>4</td>\n",
       "      <td>5</td>\n",
       "    </tr>\n",
       "    <tr>\n",
       "      <th>Message Body</th>\n",
       "      <td>Message-ID: &lt;15886558.1075840010371.JavaMail.e...</td>\n",
       "      <td>Message-ID: &lt;15680772.1075840010630.JavaMail.e...</td>\n",
       "      <td>Message-ID: &lt;19004769.1075840009908.JavaMail.e...</td>\n",
       "      <td>Message-ID: &lt;20348456.1075839979614.JavaMail.e...</td>\n",
       "      <td>Message-ID: &lt;9744175.1075839979640.JavaMail.ev...</td>\n",
       "    </tr>\n",
       "    <tr>\n",
       "      <th>Number of Words</th>\n",
       "      <td>519</td>\n",
       "      <td>224</td>\n",
       "      <td>150</td>\n",
       "      <td>187</td>\n",
       "      <td>187</td>\n",
       "    </tr>\n",
       "    <tr>\n",
       "      <th>Number of Stop Words</th>\n",
       "      <td>185</td>\n",
       "      <td>77</td>\n",
       "      <td>23</td>\n",
       "      <td>20</td>\n",
       "      <td>20</td>\n",
       "    </tr>\n",
       "    <tr>\n",
       "      <th>Number of Unique Words</th>\n",
       "      <td>312</td>\n",
       "      <td>170</td>\n",
       "      <td>140</td>\n",
       "      <td>107</td>\n",
       "      <td>107</td>\n",
       "    </tr>\n",
       "    <tr>\n",
       "      <th>Ratio of Lowercase to Uppercase</th>\n",
       "      <td>0.722543</td>\n",
       "      <td>0.754464</td>\n",
       "      <td>0.406667</td>\n",
       "      <td>0.374332</td>\n",
       "      <td>0.374332</td>\n",
       "    </tr>\n",
       "    <tr>\n",
       "      <th>Number of Exclamation Points</th>\n",
       "      <td>0</td>\n",
       "      <td>0</td>\n",
       "      <td>0</td>\n",
       "      <td>0</td>\n",
       "      <td>0</td>\n",
       "    </tr>\n",
       "    <tr>\n",
       "      <th>Target</th>\n",
       "      <td>0</td>\n",
       "      <td>0</td>\n",
       "      <td>0</td>\n",
       "      <td>0</td>\n",
       "      <td>0</td>\n",
       "    </tr>\n",
       "  </tbody>\n",
       "</table>\n",
       "</div>"
      ],
      "text/plain": [
       "                                                                                 0  \\\n",
       "Index                                                                            1   \n",
       "Message Body                     Message-ID: <15886558.1075840010371.JavaMail.e...   \n",
       "Number of Words                                                                519   \n",
       "Number of Stop Words                                                           185   \n",
       "Number of Unique Words                                                         312   \n",
       "Ratio of Lowercase to Uppercase                                           0.722543   \n",
       "Number of Exclamation Points                                                     0   \n",
       "Target                                                                           0   \n",
       "\n",
       "                                                                                 1  \\\n",
       "Index                                                                            2   \n",
       "Message Body                     Message-ID: <15680772.1075840010630.JavaMail.e...   \n",
       "Number of Words                                                                224   \n",
       "Number of Stop Words                                                            77   \n",
       "Number of Unique Words                                                         170   \n",
       "Ratio of Lowercase to Uppercase                                           0.754464   \n",
       "Number of Exclamation Points                                                     0   \n",
       "Target                                                                           0   \n",
       "\n",
       "                                                                                 2  \\\n",
       "Index                                                                            3   \n",
       "Message Body                     Message-ID: <19004769.1075840009908.JavaMail.e...   \n",
       "Number of Words                                                                150   \n",
       "Number of Stop Words                                                            23   \n",
       "Number of Unique Words                                                         140   \n",
       "Ratio of Lowercase to Uppercase                                           0.406667   \n",
       "Number of Exclamation Points                                                     0   \n",
       "Target                                                                           0   \n",
       "\n",
       "                                                                                 3  \\\n",
       "Index                                                                            4   \n",
       "Message Body                     Message-ID: <20348456.1075839979614.JavaMail.e...   \n",
       "Number of Words                                                                187   \n",
       "Number of Stop Words                                                            20   \n",
       "Number of Unique Words                                                         107   \n",
       "Ratio of Lowercase to Uppercase                                           0.374332   \n",
       "Number of Exclamation Points                                                     0   \n",
       "Target                                                                           0   \n",
       "\n",
       "                                                                                 4  \n",
       "Index                                                                            5  \n",
       "Message Body                     Message-ID: <9744175.1075839979640.JavaMail.ev...  \n",
       "Number of Words                                                                187  \n",
       "Number of Stop Words                                                            20  \n",
       "Number of Unique Words                                                         107  \n",
       "Ratio of Lowercase to Uppercase                                           0.374332  \n",
       "Number of Exclamation Points                                                     0  \n",
       "Target                                                                           0  "
      ]
     },
     "execution_count": 7,
     "metadata": {},
     "output_type": "execute_result"
    }
   ],
   "source": [
    "data.head().T"
   ]
  },
  {
   "cell_type": "code",
   "execution_count": 8,
   "metadata": {},
   "outputs": [],
   "source": [
    "# drop Message Body column\n",
    "data.drop('Message Body', axis=1, inplace=True)"
   ]
  },
  {
   "cell_type": "code",
   "execution_count": 9,
   "metadata": {},
   "outputs": [
    {
     "data": {
      "text/html": [
       "<div>\n",
       "<style scoped>\n",
       "    .dataframe tbody tr th:only-of-type {\n",
       "        vertical-align: middle;\n",
       "    }\n",
       "\n",
       "    .dataframe tbody tr th {\n",
       "        vertical-align: top;\n",
       "    }\n",
       "\n",
       "    .dataframe thead th {\n",
       "        text-align: right;\n",
       "    }\n",
       "</style>\n",
       "<table border=\"1\" class=\"dataframe\">\n",
       "  <thead>\n",
       "    <tr style=\"text-align: right;\">\n",
       "      <th></th>\n",
       "      <th>0</th>\n",
       "      <th>1</th>\n",
       "      <th>2</th>\n",
       "      <th>3</th>\n",
       "      <th>4</th>\n",
       "    </tr>\n",
       "  </thead>\n",
       "  <tbody>\n",
       "    <tr>\n",
       "      <th>Index</th>\n",
       "      <td>1.000000</td>\n",
       "      <td>2.000000</td>\n",
       "      <td>3.000000</td>\n",
       "      <td>4.000000</td>\n",
       "      <td>5.000000</td>\n",
       "    </tr>\n",
       "    <tr>\n",
       "      <th>Number of Words</th>\n",
       "      <td>519.000000</td>\n",
       "      <td>224.000000</td>\n",
       "      <td>150.000000</td>\n",
       "      <td>187.000000</td>\n",
       "      <td>187.000000</td>\n",
       "    </tr>\n",
       "    <tr>\n",
       "      <th>Number of Stop Words</th>\n",
       "      <td>185.000000</td>\n",
       "      <td>77.000000</td>\n",
       "      <td>23.000000</td>\n",
       "      <td>20.000000</td>\n",
       "      <td>20.000000</td>\n",
       "    </tr>\n",
       "    <tr>\n",
       "      <th>Number of Unique Words</th>\n",
       "      <td>312.000000</td>\n",
       "      <td>170.000000</td>\n",
       "      <td>140.000000</td>\n",
       "      <td>107.000000</td>\n",
       "      <td>107.000000</td>\n",
       "    </tr>\n",
       "    <tr>\n",
       "      <th>Ratio of Lowercase to Uppercase</th>\n",
       "      <td>0.722543</td>\n",
       "      <td>0.754464</td>\n",
       "      <td>0.406667</td>\n",
       "      <td>0.374332</td>\n",
       "      <td>0.374332</td>\n",
       "    </tr>\n",
       "    <tr>\n",
       "      <th>Number of Exclamation Points</th>\n",
       "      <td>0.000000</td>\n",
       "      <td>0.000000</td>\n",
       "      <td>0.000000</td>\n",
       "      <td>0.000000</td>\n",
       "      <td>0.000000</td>\n",
       "    </tr>\n",
       "    <tr>\n",
       "      <th>Target</th>\n",
       "      <td>0.000000</td>\n",
       "      <td>0.000000</td>\n",
       "      <td>0.000000</td>\n",
       "      <td>0.000000</td>\n",
       "      <td>0.000000</td>\n",
       "    </tr>\n",
       "  </tbody>\n",
       "</table>\n",
       "</div>"
      ],
      "text/plain": [
       "                                          0           1           2  \\\n",
       "Index                              1.000000    2.000000    3.000000   \n",
       "Number of Words                  519.000000  224.000000  150.000000   \n",
       "Number of Stop Words             185.000000   77.000000   23.000000   \n",
       "Number of Unique Words           312.000000  170.000000  140.000000   \n",
       "Ratio of Lowercase to Uppercase    0.722543    0.754464    0.406667   \n",
       "Number of Exclamation Points       0.000000    0.000000    0.000000   \n",
       "Target                             0.000000    0.000000    0.000000   \n",
       "\n",
       "                                          3           4  \n",
       "Index                              4.000000    5.000000  \n",
       "Number of Words                  187.000000  187.000000  \n",
       "Number of Stop Words              20.000000   20.000000  \n",
       "Number of Unique Words           107.000000  107.000000  \n",
       "Ratio of Lowercase to Uppercase    0.374332    0.374332  \n",
       "Number of Exclamation Points       0.000000    0.000000  \n",
       "Target                             0.000000    0.000000  "
      ]
     },
     "execution_count": 9,
     "metadata": {},
     "output_type": "execute_result"
    }
   ],
   "source": [
    "data.head().T"
   ]
  },
  {
   "attachments": {},
   "cell_type": "markdown",
   "metadata": {},
   "source": [
    "## run with index column"
   ]
  },
  {
   "cell_type": "code",
   "execution_count": 10,
   "metadata": {},
   "outputs": [],
   "source": [
    "# Splitting the data into features and target variable\n",
    "X = data.drop('Target', axis=1)  # Replace 'target_variable_name' with the actual name of your target variable\n",
    "y = data['Target']\n",
    "\n",
    "# Splitting the data into training and testing sets\n",
    "X_train, X_test, y_train, y_test = train_test_split(X, y, test_size=0.2, random_state=42)  # Adjust the test_size and random_state as desired"
   ]
  },
  {
   "cell_type": "code",
   "execution_count": 11,
   "metadata": {},
   "outputs": [
    {
     "name": "stdout",
     "output_type": "stream",
     "text": [
      "Accuracy: 0.8823255813953489\n"
     ]
    }
   ],
   "source": [
    "# Training the Naive Bayes model\n",
    "model = GaussianNB()\n",
    "model.fit(X_train, y_train)\n",
    "\n",
    "# Making predictions on the testing set\n",
    "y_pred = model.predict(X_test)\n",
    "\n",
    "# Evaluating the model performance\n",
    "accuracy = accuracy_score(y_test, y_pred)\n",
    "print(\"Accuracy:\", accuracy)"
   ]
  },
  {
   "attachments": {},
   "cell_type": "markdown",
   "metadata": {},
   "source": [
    "## run without"
   ]
  },
  {
   "cell_type": "code",
   "execution_count": 12,
   "metadata": {},
   "outputs": [],
   "source": [
    "# drop the index column\n",
    "data.drop('Index', axis=1, inplace=True)"
   ]
  },
  {
   "cell_type": "code",
   "execution_count": 13,
   "metadata": {},
   "outputs": [
    {
     "data": {
      "text/html": [
       "<div>\n",
       "<style scoped>\n",
       "    .dataframe tbody tr th:only-of-type {\n",
       "        vertical-align: middle;\n",
       "    }\n",
       "\n",
       "    .dataframe tbody tr th {\n",
       "        vertical-align: top;\n",
       "    }\n",
       "\n",
       "    .dataframe thead th {\n",
       "        text-align: right;\n",
       "    }\n",
       "</style>\n",
       "<table border=\"1\" class=\"dataframe\">\n",
       "  <thead>\n",
       "    <tr style=\"text-align: right;\">\n",
       "      <th></th>\n",
       "      <th>0</th>\n",
       "      <th>1</th>\n",
       "      <th>2</th>\n",
       "      <th>3</th>\n",
       "      <th>4</th>\n",
       "    </tr>\n",
       "  </thead>\n",
       "  <tbody>\n",
       "    <tr>\n",
       "      <th>Number of Words</th>\n",
       "      <td>519.000000</td>\n",
       "      <td>224.000000</td>\n",
       "      <td>150.000000</td>\n",
       "      <td>187.000000</td>\n",
       "      <td>187.000000</td>\n",
       "    </tr>\n",
       "    <tr>\n",
       "      <th>Number of Stop Words</th>\n",
       "      <td>185.000000</td>\n",
       "      <td>77.000000</td>\n",
       "      <td>23.000000</td>\n",
       "      <td>20.000000</td>\n",
       "      <td>20.000000</td>\n",
       "    </tr>\n",
       "    <tr>\n",
       "      <th>Number of Unique Words</th>\n",
       "      <td>312.000000</td>\n",
       "      <td>170.000000</td>\n",
       "      <td>140.000000</td>\n",
       "      <td>107.000000</td>\n",
       "      <td>107.000000</td>\n",
       "    </tr>\n",
       "    <tr>\n",
       "      <th>Ratio of Lowercase to Uppercase</th>\n",
       "      <td>0.722543</td>\n",
       "      <td>0.754464</td>\n",
       "      <td>0.406667</td>\n",
       "      <td>0.374332</td>\n",
       "      <td>0.374332</td>\n",
       "    </tr>\n",
       "    <tr>\n",
       "      <th>Number of Exclamation Points</th>\n",
       "      <td>0.000000</td>\n",
       "      <td>0.000000</td>\n",
       "      <td>0.000000</td>\n",
       "      <td>0.000000</td>\n",
       "      <td>0.000000</td>\n",
       "    </tr>\n",
       "    <tr>\n",
       "      <th>Target</th>\n",
       "      <td>0.000000</td>\n",
       "      <td>0.000000</td>\n",
       "      <td>0.000000</td>\n",
       "      <td>0.000000</td>\n",
       "      <td>0.000000</td>\n",
       "    </tr>\n",
       "  </tbody>\n",
       "</table>\n",
       "</div>"
      ],
      "text/plain": [
       "                                          0           1           2  \\\n",
       "Number of Words                  519.000000  224.000000  150.000000   \n",
       "Number of Stop Words             185.000000   77.000000   23.000000   \n",
       "Number of Unique Words           312.000000  170.000000  140.000000   \n",
       "Ratio of Lowercase to Uppercase    0.722543    0.754464    0.406667   \n",
       "Number of Exclamation Points       0.000000    0.000000    0.000000   \n",
       "Target                             0.000000    0.000000    0.000000   \n",
       "\n",
       "                                          3           4  \n",
       "Number of Words                  187.000000  187.000000  \n",
       "Number of Stop Words              20.000000   20.000000  \n",
       "Number of Unique Words           107.000000  107.000000  \n",
       "Ratio of Lowercase to Uppercase    0.374332    0.374332  \n",
       "Number of Exclamation Points       0.000000    0.000000  \n",
       "Target                             0.000000    0.000000  "
      ]
     },
     "execution_count": 13,
     "metadata": {},
     "output_type": "execute_result"
    }
   ],
   "source": [
    "data.head().T"
   ]
  },
  {
   "cell_type": "code",
   "execution_count": 14,
   "metadata": {},
   "outputs": [],
   "source": [
    "# Splitting the data into features and target variable\n",
    "X = data.drop('Target', axis=1)  # Replace 'target_variable_name' with the actual name of your target variable\n",
    "y = data['Target']\n",
    "\n",
    "# Splitting the data into training and testing sets\n",
    "X_train, X_test, y_train, y_test = train_test_split(X, y, test_size=0.2, random_state=42)  # Adjust the test_size and random_state as desired"
   ]
  },
  {
   "cell_type": "code",
   "execution_count": 15,
   "metadata": {},
   "outputs": [
    {
     "name": "stdout",
     "output_type": "stream",
     "text": [
      "Accuracy: 0.72\n"
     ]
    }
   ],
   "source": [
    "# Training the Naive Bayes model\n",
    "model = GaussianNB()\n",
    "model.fit(X_train, y_train)\n",
    "\n",
    "# Making predictions on the testing set\n",
    "y_pred = model.predict(X_test)\n",
    "\n",
    "# Evaluating the model performance\n",
    "accuracy = accuracy_score(y_test, y_pred)\n",
    "print(\"Accuracy:\", accuracy)"
   ]
  }
 ],
 "metadata": {
  "kernelspec": {
   "display_name": "learn-env",
   "language": "python",
   "name": "python3"
  },
  "language_info": {
   "codemirror_mode": {
    "name": "ipython",
    "version": 3
   },
   "file_extension": ".py",
   "mimetype": "text/x-python",
   "name": "python",
   "nbconvert_exporter": "python",
   "pygments_lexer": "ipython3",
   "version": "3.8.5"
  },
  "orig_nbformat": 4
 },
 "nbformat": 4,
 "nbformat_minor": 2
}
