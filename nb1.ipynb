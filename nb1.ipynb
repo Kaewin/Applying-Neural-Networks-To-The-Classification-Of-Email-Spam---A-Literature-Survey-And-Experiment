{
 "cells": [
  {
   "attachments": {},
   "cell_type": "markdown",
   "metadata": {},
   "source": [
    "# Run 1: Preprocessed Data\n",
    "\n",
    "The following data being used here the preprocessed data from the enron email dataset. Specifically here, it is the data used by the following paper.\n",
    "\n",
    "[Paper](https://www2.aueb.gr/users/ion/docs/ceas2006_paper.pdf)\n",
    "\n",
    "[Data](https://www2.aueb.gr/users/ion/data/enron-spam/)"
   ]
  },
  {
   "cell_type": "code",
   "execution_count": 112,
   "metadata": {},
   "outputs": [],
   "source": [
    "import pandas as pd\n",
    "from sklearn.model_selection import train_test_split\n",
    "from sklearn.naive_bayes import GaussianNB\n",
    "from sklearn.metrics import accuracy_score"
   ]
  },
  {
   "cell_type": "code",
   "execution_count": 113,
   "metadata": {},
   "outputs": [],
   "source": [
    "# import data\n",
    "data = pd.read_csv('data/data_cleaned.csv')"
   ]
  },
  {
   "cell_type": "code",
   "execution_count": 114,
   "metadata": {},
   "outputs": [],
   "source": [
    "# Splitting the data into features and target variable\n",
    "X = data.drop('spam', axis=1)  # Replace 'target_variable_name' with the actual name of your target variable\n",
    "y = data['spam']\n",
    "\n",
    "# Splitting the data into training and testing sets\n",
    "X_train, X_test, y_train, y_test = train_test_split(X, y, test_size=0.2, random_state=42)  # Adjust the test_size and random_state as desired"
   ]
  },
  {
   "cell_type": "code",
   "execution_count": 115,
   "metadata": {},
   "outputs": [
    {
     "name": "stdout",
     "output_type": "stream",
     "text": [
      "Accuracy: 0.8152173913043478\n"
     ]
    }
   ],
   "source": [
    "# Training the Naive Bayes model\n",
    "model = GaussianNB()\n",
    "model.fit(X_train, y_train)\n",
    "\n",
    "# Making predictions on the testing set\n",
    "y_pred = model.predict(X_test)\n",
    "\n",
    "# Evaluating the model performance\n",
    "accuracy = accuracy_score(y_test, y_pred)\n",
    "print(\"Accuracy:\", accuracy)"
   ]
  },
  {
   "attachments": {},
   "cell_type": "markdown",
   "metadata": {},
   "source": [
    "# Run 2: Data Processed By Me"
   ]
  },
  {
   "cell_type": "code",
   "execution_count": 116,
   "metadata": {},
   "outputs": [],
   "source": [
    "# import data\n",
    "d1 = pd.read_csv('data/enron_proccessed.csv')\n",
    "d2 = pd.read_csv('data/enron_proccessed_spam.csv')"
   ]
  },
  {
   "cell_type": "code",
   "execution_count": 117,
   "metadata": {},
   "outputs": [],
   "source": [
    "# combine d1 and d2, update the index\n",
    "data = pd.concat([d1, d2], ignore_index=True)"
   ]
  },
  {
   "cell_type": "code",
   "execution_count": 118,
   "metadata": {},
   "outputs": [
    {
     "data": {
      "text/html": [
       "<div>\n",
       "<style scoped>\n",
       "    .dataframe tbody tr th:only-of-type {\n",
       "        vertical-align: middle;\n",
       "    }\n",
       "\n",
       "    .dataframe tbody tr th {\n",
       "        vertical-align: top;\n",
       "    }\n",
       "\n",
       "    .dataframe thead th {\n",
       "        text-align: right;\n",
       "    }\n",
       "</style>\n",
       "<table border=\"1\" class=\"dataframe\">\n",
       "  <thead>\n",
       "    <tr style=\"text-align: right;\">\n",
       "      <th></th>\n",
       "      <th>0</th>\n",
       "      <th>1</th>\n",
       "      <th>2</th>\n",
       "      <th>3</th>\n",
       "      <th>4</th>\n",
       "    </tr>\n",
       "  </thead>\n",
       "  <tbody>\n",
       "    <tr>\n",
       "      <th>Index</th>\n",
       "      <td>1</td>\n",
       "      <td>2</td>\n",
       "      <td>3</td>\n",
       "      <td>4</td>\n",
       "      <td>5</td>\n",
       "    </tr>\n",
       "    <tr>\n",
       "      <th>Message Body</th>\n",
       "      <td>Message-ID: &lt;15886558.1075840010371.JavaMail.e...</td>\n",
       "      <td>Message-ID: &lt;15680772.1075840010630.JavaMail.e...</td>\n",
       "      <td>Message-ID: &lt;19004769.1075840009908.JavaMail.e...</td>\n",
       "      <td>Message-ID: &lt;20348456.1075839979614.JavaMail.e...</td>\n",
       "      <td>Message-ID: &lt;9744175.1075839979640.JavaMail.ev...</td>\n",
       "    </tr>\n",
       "    <tr>\n",
       "      <th>Number of Words</th>\n",
       "      <td>519</td>\n",
       "      <td>224</td>\n",
       "      <td>150</td>\n",
       "      <td>187</td>\n",
       "      <td>187</td>\n",
       "    </tr>\n",
       "    <tr>\n",
       "      <th>Number of Stop Words</th>\n",
       "      <td>185</td>\n",
       "      <td>77</td>\n",
       "      <td>23</td>\n",
       "      <td>20</td>\n",
       "      <td>20</td>\n",
       "    </tr>\n",
       "    <tr>\n",
       "      <th>Number of Unique Words</th>\n",
       "      <td>312</td>\n",
       "      <td>170</td>\n",
       "      <td>140</td>\n",
       "      <td>107</td>\n",
       "      <td>107</td>\n",
       "    </tr>\n",
       "    <tr>\n",
       "      <th>Ratio of Lowercase to Uppercase</th>\n",
       "      <td>0.722543</td>\n",
       "      <td>0.754464</td>\n",
       "      <td>0.406667</td>\n",
       "      <td>0.374332</td>\n",
       "      <td>0.374332</td>\n",
       "    </tr>\n",
       "    <tr>\n",
       "      <th>Number of Exclamation Points</th>\n",
       "      <td>0</td>\n",
       "      <td>0</td>\n",
       "      <td>0</td>\n",
       "      <td>0</td>\n",
       "      <td>0</td>\n",
       "    </tr>\n",
       "    <tr>\n",
       "      <th>Number of Unique Stemmed Words</th>\n",
       "      <td>233</td>\n",
       "      <td>134</td>\n",
       "      <td>132</td>\n",
       "      <td>110</td>\n",
       "      <td>110</td>\n",
       "    </tr>\n",
       "    <tr>\n",
       "      <th>Number of Lemmatized Words</th>\n",
       "      <td>240</td>\n",
       "      <td>136</td>\n",
       "      <td>133</td>\n",
       "      <td>112</td>\n",
       "      <td>112</td>\n",
       "    </tr>\n",
       "    <tr>\n",
       "      <th>Cleaned Body</th>\n",
       "      <td>message-id: &lt;15886558.1075840010371.javamail.e...</td>\n",
       "      <td>message-id: &lt;15680772.1075840010630.javamail.e...</td>\n",
       "      <td>message-id: &lt;19004769.1075840009908.javamail.e...</td>\n",
       "      <td>message-id: &lt;20348456.1075839979614.javamail.e...</td>\n",
       "      <td>message-id: &lt;9744175.1075839979640.javamail.ev...</td>\n",
       "    </tr>\n",
       "    <tr>\n",
       "      <th>Target</th>\n",
       "      <td>0</td>\n",
       "      <td>0</td>\n",
       "      <td>0</td>\n",
       "      <td>0</td>\n",
       "      <td>0</td>\n",
       "    </tr>\n",
       "  </tbody>\n",
       "</table>\n",
       "</div>"
      ],
      "text/plain": [
       "                                                                                 0  \\\n",
       "Index                                                                            1   \n",
       "Message Body                     Message-ID: <15886558.1075840010371.JavaMail.e...   \n",
       "Number of Words                                                                519   \n",
       "Number of Stop Words                                                           185   \n",
       "Number of Unique Words                                                         312   \n",
       "Ratio of Lowercase to Uppercase                                           0.722543   \n",
       "Number of Exclamation Points                                                     0   \n",
       "Number of Unique Stemmed Words                                                 233   \n",
       "Number of Lemmatized Words                                                     240   \n",
       "Cleaned Body                     message-id: <15886558.1075840010371.javamail.e...   \n",
       "Target                                                                           0   \n",
       "\n",
       "                                                                                 1  \\\n",
       "Index                                                                            2   \n",
       "Message Body                     Message-ID: <15680772.1075840010630.JavaMail.e...   \n",
       "Number of Words                                                                224   \n",
       "Number of Stop Words                                                            77   \n",
       "Number of Unique Words                                                         170   \n",
       "Ratio of Lowercase to Uppercase                                           0.754464   \n",
       "Number of Exclamation Points                                                     0   \n",
       "Number of Unique Stemmed Words                                                 134   \n",
       "Number of Lemmatized Words                                                     136   \n",
       "Cleaned Body                     message-id: <15680772.1075840010630.javamail.e...   \n",
       "Target                                                                           0   \n",
       "\n",
       "                                                                                 2  \\\n",
       "Index                                                                            3   \n",
       "Message Body                     Message-ID: <19004769.1075840009908.JavaMail.e...   \n",
       "Number of Words                                                                150   \n",
       "Number of Stop Words                                                            23   \n",
       "Number of Unique Words                                                         140   \n",
       "Ratio of Lowercase to Uppercase                                           0.406667   \n",
       "Number of Exclamation Points                                                     0   \n",
       "Number of Unique Stemmed Words                                                 132   \n",
       "Number of Lemmatized Words                                                     133   \n",
       "Cleaned Body                     message-id: <19004769.1075840009908.javamail.e...   \n",
       "Target                                                                           0   \n",
       "\n",
       "                                                                                 3  \\\n",
       "Index                                                                            4   \n",
       "Message Body                     Message-ID: <20348456.1075839979614.JavaMail.e...   \n",
       "Number of Words                                                                187   \n",
       "Number of Stop Words                                                            20   \n",
       "Number of Unique Words                                                         107   \n",
       "Ratio of Lowercase to Uppercase                                           0.374332   \n",
       "Number of Exclamation Points                                                     0   \n",
       "Number of Unique Stemmed Words                                                 110   \n",
       "Number of Lemmatized Words                                                     112   \n",
       "Cleaned Body                     message-id: <20348456.1075839979614.javamail.e...   \n",
       "Target                                                                           0   \n",
       "\n",
       "                                                                                 4  \n",
       "Index                                                                            5  \n",
       "Message Body                     Message-ID: <9744175.1075839979640.JavaMail.ev...  \n",
       "Number of Words                                                                187  \n",
       "Number of Stop Words                                                            20  \n",
       "Number of Unique Words                                                         107  \n",
       "Ratio of Lowercase to Uppercase                                           0.374332  \n",
       "Number of Exclamation Points                                                     0  \n",
       "Number of Unique Stemmed Words                                                 110  \n",
       "Number of Lemmatized Words                                                     112  \n",
       "Cleaned Body                     message-id: <9744175.1075839979640.javamail.ev...  \n",
       "Target                                                                           0  "
      ]
     },
     "execution_count": 118,
     "metadata": {},
     "output_type": "execute_result"
    }
   ],
   "source": [
    "data.head().T"
   ]
  },
  {
   "cell_type": "code",
   "execution_count": 119,
   "metadata": {},
   "outputs": [],
   "source": [
    "# drop Message Body column\n",
    "data.drop('Message Body', axis=1, inplace=True)\n",
    "\n",
    "# drop the index column\n",
    "data.drop('Cleaned Body', axis=1, inplace=True)"
   ]
  },
  {
   "attachments": {},
   "cell_type": "markdown",
   "metadata": {},
   "source": [
    "## run without"
   ]
  },
  {
   "cell_type": "code",
   "execution_count": 120,
   "metadata": {},
   "outputs": [],
   "source": [
    "# drop the index column\n",
    "data.drop('Index', axis=1, inplace=True)"
   ]
  },
  {
   "cell_type": "code",
   "execution_count": 121,
   "metadata": {},
   "outputs": [],
   "source": [
    "# Splitting the data into features and target variable\n",
    "X = data.drop('Target', axis=1)  # Replace 'target_variable_name' with the actual name of your target variable\n",
    "y = data['Target']\n",
    "\n",
    "# Splitting the data into training and testing sets\n",
    "X_train, X_test, y_train, y_test = train_test_split(X, y, test_size=0.2, random_state=42)  # Adjust the test_size and random_state as desired"
   ]
  },
  {
   "cell_type": "code",
   "execution_count": 122,
   "metadata": {},
   "outputs": [
    {
     "name": "stdout",
     "output_type": "stream",
     "text": [
      "Accuracy: 0.7248062015503876\n"
     ]
    }
   ],
   "source": [
    "# Training the Naive Bayes model\n",
    "model = GaussianNB()\n",
    "model.fit(X_train, y_train)\n",
    "\n",
    "# Making predictions on the testing set\n",
    "y_pred = model.predict(X_test)\n",
    "\n",
    "# Evaluating the model performance\n",
    "accuracy = accuracy_score(y_test, y_pred)\n",
    "print(\"Accuracy:\", accuracy)"
   ]
  },
  {
   "cell_type": "code",
   "execution_count": 123,
   "metadata": {},
   "outputs": [
    {
     "name": "stdout",
     "output_type": "stream",
     "text": [
      "Accuracy: 0.9483204134366925\n"
     ]
    }
   ],
   "source": [
    "import numpy as np\n",
    "from sklearn.tree import DecisionTreeClassifier\n",
    "from sklearn.model_selection import train_test_split\n",
    "\n",
    "# Create the decision tree classifier\n",
    "clf = DecisionTreeClassifier()\n",
    "\n",
    "# Fit the classifier to the training data\n",
    "clf.fit(X_train, y_train)\n",
    "\n",
    "# Make predictions on the test data\n",
    "predictions = clf.predict(X_test)\n",
    "\n",
    "# Evaluate the model\n",
    "accuracy = np.mean(predictions == y_test)\n",
    "print('Accuracy:', accuracy)"
   ]
  }
 ],
 "metadata": {
  "kernelspec": {
   "display_name": "learn-env",
   "language": "python",
   "name": "python3"
  },
  "language_info": {
   "codemirror_mode": {
    "name": "ipython",
    "version": 3
   },
   "file_extension": ".py",
   "mimetype": "text/x-python",
   "name": "python",
   "nbconvert_exporter": "python",
   "pygments_lexer": "ipython3",
   "version": "3.8.5"
  },
  "orig_nbformat": 4
 },
 "nbformat": 4,
 "nbformat_minor": 2
}
