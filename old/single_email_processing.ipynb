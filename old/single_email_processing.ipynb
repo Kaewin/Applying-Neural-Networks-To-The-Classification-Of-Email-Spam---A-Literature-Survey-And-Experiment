{
 "cells": [
  {
   "cell_type": "code",
   "execution_count": 3,
   "metadata": {},
   "outputs": [
    {
     "name": "stdout",
     "output_type": "stream",
     "text": [
      "{'number_of_words': 4, 'number_of_stop_words': 2, 'number_of_unique_words': 4, 'ratio_of_lowercase_to_uppercase': 0.75, 'number_of_exclamation_points': 1, 'number_of_unique_stemmed_words': 3, 'number_of_lemmatized_words': 3}\n"
     ]
    }
   ],
   "source": [
    "from nltk.corpus import stopwords\n",
    "\n",
    "def extract_features(email):\n",
    "    features = {\n",
    "        'number_of_words': len(email.split()),\n",
    "        'number_of_stop_words': len([word for word in email.split() if word in list(stopwords.words('english'))]),\n",
    "        'number_of_unique_words': len(set(email.split())),\n",
    "        'ratio_of_lowercase_to_uppercase': float(len([word for word in email.split() if word.islower()])) / len(email.split()),\n",
    "        'number_of_exclamation_points': email.count('!'),\n",
    "    }\n",
    "\n",
    "    # Tokenize the message body\n",
    "    tokens = nltk.word_tokenize(email)\n",
    "\n",
    "    # Remove stop words\n",
    "    stop_words = nltk.corpus.stopwords.words('english')\n",
    "    tokens = [token for token in tokens if token not in stop_words]\n",
    "\n",
    "    # Stem the tokens\n",
    "    stemmer = nltk.stem.PorterStemmer()\n",
    "    stemmed_tokens = [stemmer.stem(token) for token in tokens]\n",
    "\n",
    "    # Lemmatize the tokens\n",
    "    lemmatizer = nltk.stem.WordNetLemmatizer()\n",
    "    lemmatized_tokens = [lemmatizer.lemmatize(token) for token in tokens]\n",
    "\n",
    "    features['number_of_unique_stemmed_words'] = len(set(stemmed_tokens))\n",
    "    features['number_of_lemmatized_words'] = len(set(lemmatized_tokens))\n",
    "\n",
    "    cleaned_body = ' '.join([stemmer.stem(token) for token in email.split() if token not in stop_words])\n",
    "\n",
    "    return features\n",
    "\n",
    "if __name__ == '__main__':\n",
    "    email = 'This is an email!'\n",
    "\n",
    "    features = extract_features(email)\n",
    "\n",
    "    print(features)\n"
   ]
  },
  {
   "cell_type": "code",
   "execution_count": 5,
   "metadata": {},
   "outputs": [
    {
     "name": "stdout",
     "output_type": "stream",
     "text": [
      "Please copy and paste the raw text of an email:\n",
      "The features of the email are:\n",
      "{'number_of_words': 499, 'number_of_stop_words': 83, 'number_of_unique_words': 280, 'ratio_of_lowercase_to_uppercase': 0.5390781563126252, 'number_of_exclamation_points': 0, 'number_of_unique_stemmed_words': 244, 'number_of_lemmatized_words': 248}\n"
     ]
    }
   ],
   "source": [
    "import io\n",
    "import sys\n",
    "from nltk.corpus import stopwords\n",
    "\n",
    "def get_email_text():\n",
    "    \"\"\"Prompts the user to input the copied raw text of an email.\"\"\"\n",
    "\n",
    "    email_text = \"\"\n",
    "\n",
    "    print(\"Please copy and paste the raw text of an email:\")\n",
    "\n",
    "    while True:\n",
    "        line = input()\n",
    "\n",
    "        if line == \"\":\n",
    "            break\n",
    "\n",
    "        email_text += line + \"\\n\"\n",
    "\n",
    "    return email_text\n",
    "\n",
    "def extract_features(email):\n",
    "    features = {\n",
    "        'number_of_words': len(email.split()),\n",
    "        'number_of_stop_words': len([word for word in email.split() if word in list(stopwords.words('english'))]),\n",
    "        'number_of_unique_words': len(set(email.split())),\n",
    "        'ratio_of_lowercase_to_uppercase': float(len([word for word in email.split() if word.islower()])) / len(email.split()),\n",
    "        'number_of_exclamation_points': email.count('!'),\n",
    "    }\n",
    "\n",
    "    # Tokenize the message body\n",
    "    tokens = nltk.word_tokenize(email)\n",
    "\n",
    "    # Remove stop words\n",
    "    stop_words = nltk.corpus.stopwords.words('english')\n",
    "    tokens = [token for token in tokens if token not in stop_words]\n",
    "\n",
    "    # Stem the tokens\n",
    "    stemmer = nltk.stem.PorterStemmer()\n",
    "    stemmed_tokens = [stemmer.stem(token) for token in tokens]\n",
    "\n",
    "    # Lemmatize the tokens\n",
    "    lemmatizer = nltk.stem.WordNetLemmatizer()\n",
    "    lemmatized_tokens = [lemmatizer.lemmatize(token) for token in tokens]\n",
    "\n",
    "    features['number_of_unique_stemmed_words'] = len(set(stemmed_tokens))\n",
    "    features['number_of_lemmatized_words'] = len(set(lemmatized_tokens))\n",
    "\n",
    "    cleaned_body = ' '.join([stemmer.stem(token) for token in email.split() if token not in stop_words])\n",
    "\n",
    "    return features\n",
    "\n",
    "\n",
    "if __name__ == '__main__':\n",
    "    email_text = get_email_text()\n",
    "\n",
    "    features = extract_features(email_text)\n",
    "\n",
    "    print(\"The features of the email are:\")\n",
    "    print(features)\n"
   ]
  }
 ],
 "metadata": {
  "kernelspec": {
   "display_name": "learn-env",
   "language": "python",
   "name": "python3"
  },
  "language_info": {
   "codemirror_mode": {
    "name": "ipython",
    "version": 3
   },
   "file_extension": ".py",
   "mimetype": "text/x-python",
   "name": "python",
   "nbconvert_exporter": "python",
   "pygments_lexer": "ipython3",
   "version": "3.8.5"
  },
  "orig_nbformat": 4
 },
 "nbformat": 4,
 "nbformat_minor": 2
}
