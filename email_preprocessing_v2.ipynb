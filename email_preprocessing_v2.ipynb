{
 "cells": [
  {
   "attachments": {},
   "cell_type": "markdown",
   "metadata": {},
   "source": [
    "# Imports"
   ]
  },
  {
   "cell_type": "code",
   "execution_count": 5,
   "metadata": {},
   "outputs": [],
   "source": [
    "import pandas as pd\n",
    "import numpy as np\n",
    "import os\n",
    "import csv\n",
    "import email\n",
    "import re\n",
    "import stopwords\n",
    "import nltk\n",
    "from nltk.corpus import stopwords\n",
    "\n",
    "import os\n",
    "from email.message import EmailMessage"
   ]
  },
  {
   "attachments": {},
   "cell_type": "markdown",
   "metadata": {},
   "source": [
    "# Convert Plain Text Files To .eml"
   ]
  },
  {
   "attachments": {},
   "cell_type": "markdown",
   "metadata": {},
   "source": [
    "## Ham"
   ]
  },
  {
   "cell_type": "code",
   "execution_count": 12,
   "metadata": {},
   "outputs": [],
   "source": [
    "def convert_to_eml(root_folder, output_folder):\n",
    "    for root, dirs, files in os.walk(root_folder):\n",
    "        for filename in files:\n",
    "            file_path = os.path.join(root, filename)\n",
    "\n",
    "            # Process only files (without extension)\n",
    "            if not os.path.splitext(filename)[1]:\n",
    "                output_path = os.path.join(output_folder, f'{filename}.eml')\n",
    "\n",
    "                try:\n",
    "                    # Read raw text content with UTF-8 encoding\n",
    "                    with open(file_path, 'r', encoding='utf-8') as file:\n",
    "                        raw_message = file.read()\n",
    "                except UnicodeDecodeError:\n",
    "                    # Skip files not in UTF-8 encoding\n",
    "                    continue\n",
    "\n",
    "                # Create an EmailMessage object\n",
    "                eml = EmailMessage()\n",
    "                eml.set_content(raw_message)\n",
    "\n",
    "                # Save as EML file\n",
    "                with open(output_path, 'wb') as output_file:\n",
    "                    output_file.write(eml.as_bytes())\n",
    "\n",
    "# Usage example\n",
    "root_folder = 'data\\enron\\ham'\n",
    "output_folder = 'data\\enron_eml_ham'\n",
    "\n",
    "convert_to_eml(root_folder, output_folder)"
   ]
  },
  {
   "attachments": {},
   "cell_type": "markdown",
   "metadata": {},
   "source": [
    "## Spam"
   ]
  },
  {
   "cell_type": "code",
   "execution_count": 15,
   "metadata": {},
   "outputs": [],
   "source": [
    "def convert_to_eml_spam(root_folder, output_folder):\n",
    "    for root, dirs, files in os.walk(root_folder):\n",
    "        for filename in files:\n",
    "            file_path = os.path.join(root, filename)\n",
    "\n",
    "            # Process only files with .txt extension\n",
    "            if os.path.splitext(filename)[1] == '.txt':\n",
    "                output_path = os.path.join(output_folder, f'{filename}.eml')\n",
    "\n",
    "                try:\n",
    "                    # Read raw text content with UTF-8 encoding\n",
    "                    with open(file_path, 'r', encoding='utf-8') as file:\n",
    "                        raw_message = file.read()\n",
    "                except UnicodeDecodeError:\n",
    "                    # Skip files not in UTF-8 encoding\n",
    "                    continue\n",
    "\n",
    "                # Create an EmailMessage object\n",
    "                eml = EmailMessage()\n",
    "                eml.set_content(raw_message)\n",
    "\n",
    "                # Save as EML file\n",
    "                with open(output_path, 'wb') as output_file:\n",
    "                    output_file.write(eml.as_bytes())\n",
    "\n",
    "# Usage example\n",
    "root_folder = 'data\\enron\\spam'\n",
    "output_folder = 'data\\enron_eml_spam'\n",
    "\n",
    "convert_to_eml_spam(root_folder, output_folder)\n"
   ]
  },
  {
   "attachments": {},
   "cell_type": "markdown",
   "metadata": {},
   "source": [
    "# Feature Extraction"
   ]
  },
  {
   "attachments": {},
   "cell_type": "markdown",
   "metadata": {},
   "source": [
    "## Ham"
   ]
  },
  {
   "cell_type": "code",
   "execution_count": 9,
   "metadata": {},
   "outputs": [],
   "source": [
    "def extract_email_info(root_folder, output_csv):\n",
    "    with open(output_csv, 'w', newline='') as csv_file:\n",
    "        writer = csv.writer(csv_file)\n",
    "        writer.writerow(['Index', 'Message Body', 'Number of Words', 'Number of Stop Words', 'Number of Unique Words', 'Ratio of Lowercase to Uppercase', 'Number of Exclamation Points', 'Target'])\n",
    "\n",
    "        index = 1\n",
    "\n",
    "        for root, dirs, files in os.walk(root_folder):\n",
    "            for filename in files:\n",
    "                file_path = os.path.join(root, filename)\n",
    "\n",
    "                # Process only files with .eml extension\n",
    "                if os.path.splitext(filename)[1] == '.eml':\n",
    "                    with open(file_path, 'rb') as file:\n",
    "                        eml_data = file.read()\n",
    "\n",
    "                    msg = email.message_from_bytes(eml_data)\n",
    "\n",
    "                    message_body = ''\n",
    "                    if msg.is_multipart():\n",
    "                        for part in msg.walk():\n",
    "                            content_type = part.get_content_type()\n",
    "                            if content_type == 'text/plain':\n",
    "                                message_body = part.get_payload(decode=True).decode('utf-8')\n",
    "                                break\n",
    "                    else:\n",
    "                        message_body = msg.get_payload(decode=True).decode('utf-8')\n",
    "\n",
    "                    features = {\n",
    "                        'number_of_words': len(message_body.split()),\n",
    "                        'number_of_stop_words': len([word for word in message_body.split() if word in list(stopwords.words('english'))]),\n",
    "                        'number_of_unique_words': len(set(message_body.split())),\n",
    "                        'ratio_of_lowercase_to_uppercase': float(len([word for word in message_body.split() if word.islower()])) / len(message_body.split()),\n",
    "                        'number_of_exclamation_points': message_body.count('!'),\n",
    "                    }\n",
    "\n",
    "                    target = 0 # 0 for ham, 1 for spam\n",
    "\n",
    "                    writer.writerow([index, message_body] + list(features.values()) + [target])\n",
    "\n",
    "                    index += 1\n",
    "\n",
    "if __name__ == '__main__':\n",
    "    root_folder = 'data\\enron_eml'\n",
    "    output_csv = 'data\\enron_proccessed.csv'\n",
    "\n",
    "    extract_email_info(root_folder, output_csv)"
   ]
  },
  {
   "attachments": {},
   "cell_type": "markdown",
   "metadata": {},
   "source": [
    "## Spam"
   ]
  },
  {
   "cell_type": "code",
   "execution_count": 16,
   "metadata": {},
   "outputs": [],
   "source": [
    "def extract_email_info(root_folder, output_csv):\n",
    "    with open(output_csv, 'w', newline='') as csv_file:\n",
    "        writer = csv.writer(csv_file)\n",
    "        writer.writerow(['Index', 'Message Body', 'Number of Words', 'Number of Stop Words', 'Number of Unique Words', 'Ratio of Lowercase to Uppercase', 'Number of Exclamation Points', 'Target'])\n",
    "\n",
    "        index = 1\n",
    "\n",
    "        for root, dirs, files in os.walk(root_folder):\n",
    "            for filename in files:\n",
    "                file_path = os.path.join(root, filename)\n",
    "\n",
    "                # Process only files with .eml extension\n",
    "                if os.path.splitext(filename)[1] == '.eml':\n",
    "                    with open(file_path, 'rb') as file:\n",
    "                        eml_data = file.read()\n",
    "\n",
    "                    msg = email.message_from_bytes(eml_data)\n",
    "\n",
    "                    message_body = ''\n",
    "                    if msg.is_multipart():\n",
    "                        for part in msg.walk():\n",
    "                            content_type = part.get_content_type()\n",
    "                            if content_type == 'text/plain':\n",
    "                                message_body = part.get_payload(decode=True).decode('utf-8')\n",
    "                                break\n",
    "                    else:\n",
    "                        message_body = msg.get_payload(decode=True).decode('utf-8')\n",
    "\n",
    "                    features = {\n",
    "                        'number_of_words': len(message_body.split()),\n",
    "                        'number_of_stop_words': len([word for word in message_body.split() if word in list(stopwords.words('english'))]),\n",
    "                        'number_of_unique_words': len(set(message_body.split())),\n",
    "                        'ratio_of_lowercase_to_uppercase': float(len([word for word in message_body.split() if word.islower()])) / len(message_body.split()),\n",
    "                        'number_of_exclamation_points': message_body.count('!'),\n",
    "                    }\n",
    "\n",
    "                    target = 1 # 0 for ham, 1 for spam\n",
    "\n",
    "                    writer.writerow([index, message_body] + list(features.values()) + [target])\n",
    "\n",
    "                    index += 1\n",
    "\n",
    "if __name__ == '__main__':\n",
    "    root_folder = 'data\\enron_eml_spam'\n",
    "    output_csv = 'data\\enron_proccessed_spam.csv'\n",
    "\n",
    "    extract_email_info(root_folder, output_csv)"
   ]
  }
 ],
 "metadata": {
  "kernelspec": {
   "display_name": "learn-env",
   "language": "python",
   "name": "python3"
  },
  "language_info": {
   "codemirror_mode": {
    "name": "ipython",
    "version": 3
   },
   "file_extension": ".py",
   "mimetype": "text/x-python",
   "name": "python",
   "nbconvert_exporter": "python",
   "pygments_lexer": "ipython3",
   "version": "3.8.5"
  },
  "orig_nbformat": 4
 },
 "nbformat": 4,
 "nbformat_minor": 2
}
