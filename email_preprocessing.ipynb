{
 "cells": [
  {
   "cell_type": "code",
   "execution_count": 17,
   "metadata": {},
   "outputs": [],
   "source": [
    "import pandas as pd\n",
    "import numpy as np\n",
    "import os\n",
    "import csv\n",
    "import email\n",
    "import re"
   ]
  },
  {
   "cell_type": "code",
   "execution_count": 5,
   "metadata": {},
   "outputs": [
    {
     "name": "stdout",
     "output_type": "stream",
     "text": [
      " Volume in drive C has no label.\n",
      " Volume Serial Number is 50C4-BF99\n",
      "\n",
      " Directory of c:\\Users\\gerba\\Programming\\Flatiron School Data Science Bootcamp - April Cohort 2023\\capstone\n",
      "\n",
      "06/30/2023  01:02 PM    <DIR>          .\n",
      "06/26/2023  12:47 PM    <DIR>          ..\n",
      "06/30/2023  01:02 PM             3,265 .gitignore\n",
      "06/26/2023  12:55 PM                60 capstone.code-workspace\n",
      "06/30/2023  01:06 PM    <DIR>          data\n",
      "06/28/2023  02:28 PM           151,822 eda.ipynb\n",
      "06/30/2023  04:09 PM             3,093 email_preprocessing.ipynb\n",
      "06/26/2023  12:47 PM            35,823 LICENSE\n",
      "06/28/2023  03:17 PM             2,100 nb1.ipynb\n",
      "06/27/2023  10:53 PM               923 README.md\n",
      "               7 File(s)        197,086 bytes\n",
      "               3 Dir(s)  1,415,802,413,056 bytes free\n"
     ]
    }
   ],
   "source": [
    "!dir"
   ]
  },
  {
   "cell_type": "code",
   "execution_count": 21,
   "metadata": {},
   "outputs": [],
   "source": [
    "def convert_to_eml(root_folder, output_folder):\n",
    "    for root, dirs, files in os.walk(root_folder):\n",
    "        for filename in files:\n",
    "            file_path = os.path.join(root, filename)\n",
    "\n",
    "            # Process only files (without extension)\n",
    "            if not os.path.splitext(filename)[1]:\n",
    "                output_path = os.path.join(output_folder, f'{filename}.eml')\n",
    "\n",
    "                try:\n",
    "                    # Read raw text content with UTF-8 encoding\n",
    "                    with open(file_path, 'r', encoding='utf-8') as file:\n",
    "                        raw_message = file.read()\n",
    "                except UnicodeDecodeError:\n",
    "                    # Skip files not in UTF-8 encoding\n",
    "                    continue\n",
    "\n",
    "                # Create an EmailMessage object\n",
    "                eml = EmailMessage()\n",
    "                eml.set_content(raw_message)\n",
    "\n",
    "                # Save as EML file\n",
    "                with open(output_path, 'wb') as output_file:\n",
    "                    output_file.write(eml.as_bytes())\n",
    "\n",
    "# Usage example\n",
    "root_folder = 'data\\enron'\n",
    "output_folder = 'data\\enron_eml'\n",
    "\n",
    "convert_to_eml(root_folder, output_folder)"
   ]
  },
  {
   "cell_type": "code",
   "execution_count": 25,
   "metadata": {},
   "outputs": [],
   "source": [
    "def extract_email_info(root_folder, output_csv):\n",
    "    with open(output_csv, 'w', newline='') as csv_file:\n",
    "        writer = csv.writer(csv_file)\n",
    "        writer.writerow(['Index', 'Message ID', 'Message Headers', 'Message Body'])\n",
    "\n",
    "        index = 1\n",
    "\n",
    "        for root, dirs, files in os.walk(root_folder):\n",
    "            for filename in files:\n",
    "                file_path = os.path.join(root, filename)\n",
    "\n",
    "                # Process only files with .eml extension\n",
    "                if os.path.splitext(filename)[1] == '.eml':\n",
    "                    with open(file_path, 'rb') as file:\n",
    "                        eml_data = file.read()\n",
    "\n",
    "                    msg = email.message_from_bytes(eml_data)\n",
    "\n",
    "                    # Extract Message-ID from the format: Message-ID: <15886558.1075840010371.JavaMail.evans@thyme>\n",
    "                    message_id_match = re.search(r'<([^<>]+)>', msg.get('Message-ID', ''))\n",
    "                    message_id = message_id_match.group(1) if message_id_match else ''\n",
    "\n",
    "                    message_headers = []\n",
    "                    for key, value in msg.items():\n",
    "                        header = f'{key}: {value}'\n",
    "                        message_headers.append(header)\n",
    "\n",
    "                    message_body = ''\n",
    "                    if msg.is_multipart():\n",
    "                        for part in msg.walk():\n",
    "                            content_type = part.get_content_type()\n",
    "                            if content_type == 'text/plain':\n",
    "                                message_body = part.get_payload(decode=True).decode('utf-8')\n",
    "                                break\n",
    "                    else:\n",
    "                        message_body = msg.get_payload(decode=True).decode('utf-8')\n",
    "\n",
    "                    writer.writerow([index, message_id, '\\n'.join(message_headers), message_body])\n",
    "\n",
    "                    index += 1\n",
    "\n",
    "# Usage example\n",
    "root_folder = 'data\\enron_eml'\n",
    "output_csv = 'data\\enron_proccessed.csv'\n",
    "\n",
    "extract_email_info(root_folder, output_csv)"
   ]
  },
  {
   "cell_type": "code",
   "execution_count": 2,
   "metadata": {},
   "outputs": [],
   "source": [
    "def parse_raw_message(raw_message):\n",
    "    lines = raw_message.split('\\n')\n",
    "    email = {}\n",
    "    message = ''\n",
    "    keys_to_extract = ['from', 'to']\n",
    "    for line in lines:\n",
    "        if ':' not in line:\n",
    "            message += line.strip()\n",
    "            email['body'] = message\n",
    "        else:\n",
    "            pairs = line.split(':')\n",
    "            key = pairs[0].lower()\n",
    "            val = pairs[1].strip()\n",
    "            if key in keys_to_extract:\n",
    "                email[key] = val\n",
    "    return email"
   ]
  },
  {
   "cell_type": "code",
   "execution_count": 3,
   "metadata": {},
   "outputs": [],
   "source": [
    "def parse_into_emails(messages):\n",
    "    emails = [parse_raw_message(message) for message in messages]\n",
    "    return {\n",
    "        'body': map_to_list(emails, 'body'), \n",
    "        'to': map_to_list(emails, 'to'), \n",
    "        'from_': map_to_list(emails, 'from')\n",
    "    }"
   ]
  }
 ],
 "metadata": {
  "kernelspec": {
   "display_name": "learn-env",
   "language": "python",
   "name": "python3"
  },
  "language_info": {
   "codemirror_mode": {
    "name": "ipython",
    "version": 3
   },
   "file_extension": ".py",
   "mimetype": "text/x-python",
   "name": "python",
   "nbconvert_exporter": "python",
   "pygments_lexer": "ipython3",
   "version": "3.8.5"
  },
  "orig_nbformat": 4
 },
 "nbformat": 4,
 "nbformat_minor": 2
}
