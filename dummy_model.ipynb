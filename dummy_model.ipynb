{
 "cells": [
  {
   "cell_type": "code",
   "execution_count": 2,
   "metadata": {},
   "outputs": [],
   "source": [
    "import numpy as np\n",
    "import pandas as pd\n",
    "from sklearn.dummy import DummyClassifier\n",
    "from sklearn.metrics import precision_score\n",
    "\n",
    "# Load the dataset\n",
    "df = pd.read_csv(\"data/combined_data.csv\")\n",
    "\n",
    "# drop Message Body column\n",
    "df.drop('Message Body', axis=1, inplace=True)\n",
    "\n",
    "# drop the index column\n",
    "df.drop('Index', axis=1, inplace=True)\n",
    "\n",
    "# drop the index column\n",
    "df.drop('Cleaned Body', axis=1, inplace=True)"
   ]
  },
  {
   "cell_type": "code",
   "execution_count": 3,
   "metadata": {},
   "outputs": [],
   "source": [
    "# Create a dummy classifier object\n",
    "clf = DummyClassifier(strategy=\"most_frequent\")"
   ]
  },
  {
   "cell_type": "code",
   "execution_count": 7,
   "metadata": {},
   "outputs": [
    {
     "name": "stdout",
     "output_type": "stream",
     "text": [
      "Accuracy: 0.5000445354947893\n"
     ]
    }
   ],
   "source": [
    "# Fit the dummy classifier to the training data\n",
    "clf.fit(df.drop(\"Target\", axis=1), df[\"Target\"])\n",
    "\n",
    "# Make predictions on the test data\n",
    "predictions = clf.predict(df.drop(\"Target\", axis=1))\n",
    "\n",
    "# # Evaluate the performance of the dummy classifier\n",
    "# precision = precision_score(df[\"Target\"], predictions)\n",
    "# print(\"Precision:\", precision)\n",
    "\n",
    "# Evaluate the performance of the dummy classifier\n",
    "accuracy = np.mean(predictions == df[\"Target\"])\n",
    "print(\"Accuracy:\", accuracy)"
   ]
  }
 ],
 "metadata": {
  "kernelspec": {
   "display_name": "learn-env",
   "language": "python",
   "name": "python3"
  },
  "language_info": {
   "codemirror_mode": {
    "name": "ipython",
    "version": 3
   },
   "file_extension": ".py",
   "mimetype": "text/x-python",
   "name": "python",
   "nbconvert_exporter": "python",
   "pygments_lexer": "ipython3",
   "version": "3.8.5"
  },
  "orig_nbformat": 4
 },
 "nbformat": 4,
 "nbformat_minor": 2
}
